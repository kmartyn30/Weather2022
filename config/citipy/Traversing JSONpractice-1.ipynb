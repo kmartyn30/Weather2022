{
 "cells": [
  {
   "cell_type": "code",
   "execution_count": null,
   "metadata": {},
   "outputs": [],
   "source": [
    "import requests\n",
    "city = input(\"Enter City:\")\n",
    "url = 'http://api.openwathermap.org/data/2.5/weather?q{}&appid={Enter your API key here}&Unit=metrics\n",
    "res = requests.get(url)\n",
    "data = res.json()\n",
    "humidity = data['main']['humidity']\n",
    "pressure = data['main']['pressure']\n",
    "wind = data['wind']['speed']\n",
    "description = data['weather'][0]['description']\n",
    "temp = data['main']['temp']\n",
    "print('Temperature:',temp,'°C')\n",
    "print('Wind:',wind)\n",
    "print('Pressure: ',pressure)\n",
    "print('Humidity: ',humidity)\n",
    "print('Description:',description)"
   ]
  },
  {
   "cell_type": "markdown",
   "metadata": {},
   "source": []
  },
  {
   "cell_type": "code",
   "execution_count": null,
   "metadata": {},
   "outputs": [],
   "source": []
  },
  {
   "cell_type": "code",
   "execution_count": null,
   "metadata": {},
   "outputs": [],
   "source": []
  }
 ],
 "metadata": {
  "kernelspec": {
   "display_name": "Python 3.10.6 64-bit",
   "language": "python",
   "name": "python3"
  },
  "language_info": {
   "codemirror_mode": {
    "name": "ipython",
    "version": 3
   },
   "file_extension": ".py",
   "mimetype": "text/x-python",
   "name": "python",
   "nbconvert_exporter": "python",
   "pygments_lexer": "ipython3",
   "version": "3.10.6"
  },
  "orig_nbformat": 4,
  "vscode": {
   "interpreter": {
    "hash": "aee8b7b246df8f9039afb4144a1f6fd8d2ca17a180786b69acc140d282b71a49"
   }
  }
 },
 "nbformat": 4,
 "nbformat_minor": 2
}
